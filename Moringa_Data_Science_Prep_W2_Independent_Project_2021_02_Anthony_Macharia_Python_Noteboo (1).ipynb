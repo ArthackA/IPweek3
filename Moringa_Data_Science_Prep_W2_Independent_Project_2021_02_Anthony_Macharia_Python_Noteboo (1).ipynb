{
  "nbformat": 4,
  "nbformat_minor": 0,
  "metadata": {
    "colab": {
      "name": "Moringa_Data_Science_Prep_W2_Independent_Project_2021_02_Anthony_Macharia_Python_Noteboo.ipynb",
      "provenance": [],
      "collapsed_sections": []
    },
    "kernelspec": {
      "name": "python3",
      "display_name": "Python 3"
    }
  },
  "cells": [
    {
      "cell_type": "code",
      "metadata": {
        "id": "IoleRPfvWUyE"
      },
      "source": [
        "# And importing the relevant libraries into our Notebook\n",
        "\n",
        "import pandas as pd\n",
        "import numpy as np"
      ],
      "execution_count": 2,
      "outputs": []
    },
    {
      "cell_type": "markdown",
      "metadata": {
        "id": "tJ2I_k56YwqN"
      },
      "source": [
        "This part we load all the datasets that we are going to use in the case\n"
      ]
    },
    {
      "cell_type": "code",
      "metadata": {
        "colab": {
          "base_uri": "https://localhost:8080/",
          "height": 363
        },
        "id": "pR4gBqi3MM-6",
        "outputId": "e420c028-eddc-4a44-e045-db673d8ebaf8"
      },
      "source": [
        "# We load the description file to help understand the data\n",
        "df_cellDescr = pd.read_excel('cells_geo_description.xlsx')\n",
        "df_cellDescr"
      ],
      "execution_count": 41,
      "outputs": [
        {
          "output_type": "execute_result",
          "data": {
            "text/html": [
              "<div>\n",
              "<style scoped>\n",
              "    .dataframe tbody tr th:only-of-type {\n",
              "        vertical-align: middle;\n",
              "    }\n",
              "\n",
              "    .dataframe tbody tr th {\n",
              "        vertical-align: top;\n",
              "    }\n",
              "\n",
              "    .dataframe thead th {\n",
              "        text-align: right;\n",
              "    }\n",
              "</style>\n",
              "<table border=\"1\" class=\"dataframe\">\n",
              "  <thead>\n",
              "    <tr style=\"text-align: right;\">\n",
              "      <th></th>\n",
              "      <th>Column name</th>\n",
              "      <th>Description</th>\n",
              "      <th>Format</th>\n",
              "    </tr>\n",
              "  </thead>\n",
              "  <tbody>\n",
              "    <tr>\n",
              "      <th>0</th>\n",
              "      <td>VILLES</td>\n",
              "      <td>City</td>\n",
              "      <td>String</td>\n",
              "    </tr>\n",
              "    <tr>\n",
              "      <th>1</th>\n",
              "      <td>STATUS</td>\n",
              "      <td>In Service or not</td>\n",
              "      <td>String</td>\n",
              "    </tr>\n",
              "    <tr>\n",
              "      <th>2</th>\n",
              "      <td>LOCALISATION</td>\n",
              "      <td>in ABIDJAN or not</td>\n",
              "      <td>String</td>\n",
              "    </tr>\n",
              "    <tr>\n",
              "      <th>3</th>\n",
              "      <td>DECOUPZONE</td>\n",
              "      <td>Geographical Zone</td>\n",
              "      <td>String</td>\n",
              "    </tr>\n",
              "    <tr>\n",
              "      <th>4</th>\n",
              "      <td>ZONENAME</td>\n",
              "      <td>Name of Zone</td>\n",
              "      <td>String</td>\n",
              "    </tr>\n",
              "    <tr>\n",
              "      <th>5</th>\n",
              "      <td>LONGITUDE</td>\n",
              "      <td>Longitude</td>\n",
              "      <td>Float</td>\n",
              "    </tr>\n",
              "    <tr>\n",
              "      <th>6</th>\n",
              "      <td>LATITUDE</td>\n",
              "      <td>Latitude</td>\n",
              "      <td>Float</td>\n",
              "    </tr>\n",
              "    <tr>\n",
              "      <th>7</th>\n",
              "      <td>REGION</td>\n",
              "      <td>Region</td>\n",
              "      <td>String</td>\n",
              "    </tr>\n",
              "    <tr>\n",
              "      <th>8</th>\n",
              "      <td>AREA</td>\n",
              "      <td>Area</td>\n",
              "      <td>String</td>\n",
              "    </tr>\n",
              "    <tr>\n",
              "      <th>9</th>\n",
              "      <td>CELL_ID</td>\n",
              "      <td>ID of the cell</td>\n",
              "      <td>String</td>\n",
              "    </tr>\n",
              "    <tr>\n",
              "      <th>10</th>\n",
              "      <td>SITE_CODE</td>\n",
              "      <td>Site (there are several cells per site, severa...</td>\n",
              "      <td>String</td>\n",
              "    </tr>\n",
              "  </tbody>\n",
              "</table>\n",
              "</div>"
            ],
            "text/plain": [
              "     Column name                                        Description  Format\n",
              "0         VILLES                                               City  String\n",
              "1         STATUS                                  In Service or not  String\n",
              "2   LOCALISATION                                  in ABIDJAN or not  String\n",
              "3     DECOUPZONE                                  Geographical Zone  String\n",
              "4       ZONENAME                                       Name of Zone  String\n",
              "5      LONGITUDE                                          Longitude   Float\n",
              "6       LATITUDE                                           Latitude   Float\n",
              "7         REGION                                             Region  String\n",
              "8           AREA                                               Area  String\n",
              "9        CELL_ID                                     ID of the cell  String\n",
              "10     SITE_CODE  Site (there are several cells per site, severa...  String"
            ]
          },
          "metadata": {
            "tags": []
          },
          "execution_count": 41
        }
      ]
    },
    {
      "cell_type": "code",
      "metadata": {
        "colab": {
          "base_uri": "https://localhost:8080/",
          "height": 288
        },
        "id": "Wek-O6EVXJVY",
        "outputId": "e971b027-b629-4dc5-bf6f-96cd11f7b767"
      },
      "source": [
        "# Loading the data sets and removing the delimiter to format dataset to be easy \n",
        "# to read\n",
        "# Replacing All NaN with Zero;\n",
        "df_cell = pd.read_csv('cells_geo.csv',delimiter=';')\n",
        "df_cell.head(5)"
      ],
      "execution_count": 43,
      "outputs": [
        {
          "output_type": "execute_result",
          "data": {
            "text/html": [
              "<div>\n",
              "<style scoped>\n",
              "    .dataframe tbody tr th:only-of-type {\n",
              "        vertical-align: middle;\n",
              "    }\n",
              "\n",
              "    .dataframe tbody tr th {\n",
              "        vertical-align: top;\n",
              "    }\n",
              "\n",
              "    .dataframe thead th {\n",
              "        text-align: right;\n",
              "    }\n",
              "</style>\n",
              "<table border=\"1\" class=\"dataframe\">\n",
              "  <thead>\n",
              "    <tr style=\"text-align: right;\">\n",
              "      <th></th>\n",
              "      <th>Unnamed: 0</th>\n",
              "      <th>VILLES</th>\n",
              "      <th>STATUS</th>\n",
              "      <th>LOCALISATION</th>\n",
              "      <th>DECOUPZONE</th>\n",
              "      <th>ZONENAME</th>\n",
              "      <th>LONGITUDE</th>\n",
              "      <th>LATITUDE</th>\n",
              "      <th>REGION</th>\n",
              "      <th>AREA</th>\n",
              "      <th>CELL_ID</th>\n",
              "      <th>SITE_CODE</th>\n",
              "    </tr>\n",
              "  </thead>\n",
              "  <tbody>\n",
              "    <tr>\n",
              "      <th>0</th>\n",
              "      <td>0</td>\n",
              "      <td>ADJAME</td>\n",
              "      <td>In Service</td>\n",
              "      <td>ABIDJAN</td>\n",
              "      <td>\"Abidjan_EST</td>\n",
              "      <td>AGBANNEW</td>\n",
              "      <td>-4.000667</td>\n",
              "      <td>5.368194</td>\n",
              "      <td>LAGUNE</td>\n",
              "      <td>NaN</td>\n",
              "      <td>fbb2e75af3</td>\n",
              "      <td>0bb492ef17</td>\n",
              "    </tr>\n",
              "    <tr>\n",
              "      <th>1</th>\n",
              "      <td>1</td>\n",
              "      <td>ADJAME</td>\n",
              "      <td>In Service</td>\n",
              "      <td>ABIDJAN</td>\n",
              "      <td>\"Abidjan_EST</td>\n",
              "      <td>AGBANNEW</td>\n",
              "      <td>-4.000667</td>\n",
              "      <td>5.368194</td>\n",
              "      <td>LAGUNE</td>\n",
              "      <td>NaN</td>\n",
              "      <td>1502501d78</td>\n",
              "      <td>0bb492ef17</td>\n",
              "    </tr>\n",
              "    <tr>\n",
              "      <th>2</th>\n",
              "      <td>2</td>\n",
              "      <td>ADJAME</td>\n",
              "      <td>In Service</td>\n",
              "      <td>ABIDJAN</td>\n",
              "      <td>\"Abidjan_EST</td>\n",
              "      <td>AGBANNEW</td>\n",
              "      <td>-4.000667</td>\n",
              "      <td>5.368194</td>\n",
              "      <td>LAGUNE</td>\n",
              "      <td>NaN</td>\n",
              "      <td>0c2e182a0c</td>\n",
              "      <td>0bb492ef17</td>\n",
              "    </tr>\n",
              "    <tr>\n",
              "      <th>3</th>\n",
              "      <td>3</td>\n",
              "      <td>ASSINIE</td>\n",
              "      <td>In Service</td>\n",
              "      <td>INTERIEUR</td>\n",
              "      <td>Grand-EST</td>\n",
              "      <td>ASSINIE\"</td>\n",
              "      <td>-3.488467</td>\n",
              "      <td>5.158761</td>\n",
              "      <td>SUD COMOE</td>\n",
              "      <td>NaN</td>\n",
              "      <td>69bdfc69fd</td>\n",
              "      <td>8a1e6ce31f</td>\n",
              "    </tr>\n",
              "    <tr>\n",
              "      <th>4</th>\n",
              "      <td>4</td>\n",
              "      <td>ASSINIE</td>\n",
              "      <td>In Service</td>\n",
              "      <td>INTERIEUR</td>\n",
              "      <td>Grand-EST</td>\n",
              "      <td>ASSINIE\"</td>\n",
              "      <td>-3.488467</td>\n",
              "      <td>5.158761</td>\n",
              "      <td>SUD COMOE</td>\n",
              "      <td>NaN</td>\n",
              "      <td>7a1029d2ab</td>\n",
              "      <td>8a1e6ce31f</td>\n",
              "    </tr>\n",
              "  </tbody>\n",
              "</table>\n",
              "</div>"
            ],
            "text/plain": [
              "   Unnamed: 0   VILLES      STATUS  ... AREA     CELL_ID   SITE_CODE\n",
              "0           0   ADJAME  In Service  ...  NaN  fbb2e75af3  0bb492ef17\n",
              "1           1   ADJAME  In Service  ...  NaN  1502501d78  0bb492ef17\n",
              "2           2   ADJAME  In Service  ...  NaN  0c2e182a0c  0bb492ef17\n",
              "3           3  ASSINIE  In Service  ...  NaN  69bdfc69fd  8a1e6ce31f\n",
              "4           4  ASSINIE  In Service  ...  NaN  7a1029d2ab  8a1e6ce31f\n",
              "\n",
              "[5 rows x 12 columns]"
            ]
          },
          "metadata": {
            "tags": []
          },
          "execution_count": 43
        }
      ]
    },
    {
      "cell_type": "code",
      "metadata": {
        "id": "XS6suD82NuAI"
      },
      "source": [
        "# Determine how many Regions associated with an Area\n",
        "empty_Area_rows = df_cell.groupby('REGION')['AREA'].count().reset_index()\n",
        "empty_Area_rows.columns = ['REGION','Area null Count']\n",
        "empty_Area_rows"
      ],
      "execution_count": null,
      "outputs": []
    },
    {
      "cell_type": "code",
      "metadata": {
        "id": "IC0LKifuQmRm"
      },
      "source": [
        "# How many area are covered in the dataset\n",
        "area = df_cell.groupby('AREA').count().reset_index()\n",
        "area = ['Area','Area Count']\n",
        "area"
      ],
      "execution_count": null,
      "outputs": []
    },
    {
      "cell_type": "code",
      "metadata": {
        "id": "61OlI9WESPYu"
      },
      "source": [
        "# Loading the CDR description\n",
        "cdr_decript = pd.read_excel('CDR_description.xlsx')\n",
        "cdr_decript"
      ],
      "execution_count": null,
      "outputs": []
    },
    {
      "cell_type": "code",
      "metadata": {
        "id": "x7opH7QzRJV7"
      },
      "source": [
        "\n",
        "# Loading the CDR Dataset telecom 1\n",
        "df_telc_1 = pd.read_csv('Telcom_dataset.csv')\n",
        "df_telc_1.head(6)"
      ],
      "execution_count": null,
      "outputs": []
    },
    {
      "cell_type": "code",
      "metadata": {
        "id": "SWZBt3WfUiaH"
      },
      "source": [
        "# Loading the CDR Dataset telecom 1\n",
        "df_telc_2 = pd.read_csv('Telcom_dataset2.csv')\n",
        "df_telc_2.head(6)"
      ],
      "execution_count": null,
      "outputs": []
    },
    {
      "cell_type": "code",
      "metadata": {
        "id": "TyINKkGGUmk0"
      },
      "source": [
        "# Loading the CDR Dataset telecom 1\n",
        "df_telc_3 = pd.read_csv('Telcom_dataset3.csv')\n",
        "df_telc_3.head(6)"
      ],
      "execution_count": null,
      "outputs": []
    },
    {
      "cell_type": "markdown",
      "metadata": {
        "id": "TzN-7hsAWaEc"
      },
      "source": [
        "Data Preparation\n"
      ]
    },
    {
      "cell_type": "markdown",
      "metadata": {
        "id": "VgPnQl00fL2z"
      },
      "source": [
        "   cell Geo dataset\n",
        "   "
      ]
    },
    {
      "cell_type": "code",
      "metadata": {
        "id": "x4BjeZ_2UwVp"
      },
      "source": [
        "# Cleaning the Cell_Geo Dataset\n",
        "prepareCelGoe_df = df_cell.copy(deep=True)"
      ],
      "execution_count": null,
      "outputs": []
    },
    {
      "cell_type": "code",
      "metadata": {
        "colab": {
          "base_uri": "https://localhost:8080/"
        },
        "id": "3Hc13aAVXI6C",
        "outputId": "eb58b650-b5fb-4a59-ff6a-33bbbd16086f"
      },
      "source": [
        "# Check for null values\n",
        "\n",
        "df_len = prepareCelGoe_df.shape[0]\n",
        "\n",
        "for column in prepareCelGoe_df.columns:\n",
        "  null_count = prepareCelGoe_df[column].isnull().sum()\n",
        "  if null_count == 0:\n",
        "    continue\n",
        "  \n",
        "  null_ratio = np.round(null_count/df_len * 100, 2)\n",
        "  print( column,\"has \",null_count,\"null Values \",null_ratio,\"%\")"
      ],
      "execution_count": 40,
      "outputs": [
        {
          "output_type": "stream",
          "text": [
            "STATUS has  67 null Values  1.69 %\n",
            "ZONENAME has  6 null Values  0.15 %\n",
            "AREA has  23 null Values  0.58 %\n"
          ],
          "name": "stdout"
        }
      ]
    },
    {
      "cell_type": "code",
      "metadata": {
        "id": "5ANVrod2aRfA"
      },
      "source": [
        "# fill in missing values\n",
        "\n",
        "prepareCelGoe_df['AREA'].fillna('Not Known',inplace = True)\n",
        "prepareCelGoe_df"
      ],
      "execution_count": null,
      "outputs": []
    },
    {
      "cell_type": "code",
      "metadata": {
        "id": "qjR7pH4ed3VX"
      },
      "source": [
        "prepareCelGoe_df['STATUS'].fillna('out-of Service',inplace = True)\n",
        "prepareCelGoe_df"
      ],
      "execution_count": null,
      "outputs": []
    },
    {
      "cell_type": "code",
      "metadata": {
        "id": "bOXiTEqEd7RT"
      },
      "source": [
        "prepareCelGoe_df['ZONENAME'].fillna('None',inplace = True)\n",
        "prepareCelGoe_df"
      ],
      "execution_count": null,
      "outputs": []
    },
    {
      "cell_type": "code",
      "metadata": {
        "id": "WZmGq8JDvDzz"
      },
      "source": [
        ""
      ],
      "execution_count": null,
      "outputs": []
    },
    {
      "cell_type": "markdown",
      "metadata": {
        "id": "ItmrXoeMfRVm"
      },
      "source": [
        "Telecom Dataset 1\n"
      ]
    },
    {
      "cell_type": "code",
      "metadata": {
        "id": "tTlNeZePfDT9"
      },
      "source": [
        "# Check for missing values\n",
        "\n",
        "preparetelco_df = df_telc_1.copy(deep=True)"
      ],
      "execution_count": 65,
      "outputs": []
    },
    {
      "cell_type": "code",
      "metadata": {
        "colab": {
          "base_uri": "https://localhost:8080/"
        },
        "id": "9aT1QKhWkAmm",
        "outputId": "1301bb02-da15-4180-d428-bcc97a79a07f"
      },
      "source": [
        "# Checking the null values in\n",
        "df_telc1_len = preparetelco_df.shape[0]\n",
        "\n",
        "for column in preparetelco_df.columns:\n",
        "  null_count = preparetelco_df[column].isnull().sum()\n",
        "  if null_count == 0:\n",
        "    continue\n",
        "  \n",
        "  null_ratio = np.round(null_count/df_len * 100, 2)\n",
        "  print( column,\"has \",null_count,\"null Values \",null_ratio,\"%\")"
      ],
      "execution_count": 66,
      "outputs": [
        {
          "output_type": "stream",
          "text": [
            "SITE_ID has  716 null Values  18.02 %\n"
          ],
          "name": "stdout"
        }
      ]
    },
    {
      "cell_type": "code",
      "metadata": {
        "id": "D3_Frak4kewQ"
      },
      "source": [
        "# Replacing the missing values\n",
        "preparetelco_df['SITE_ID'].fillna('0',inplace = True)\n",
        "preparetelco_df"
      ],
      "execution_count": null,
      "outputs": []
    },
    {
      "cell_type": "markdown",
      "metadata": {
        "id": "fgWRdOvf-h7D"
      },
      "source": [
        "Telecom Dataset 2\n",
        "\n"
      ]
    },
    {
      "cell_type": "code",
      "metadata": {
        "id": "9ICK0NuY-nZz"
      },
      "source": [
        "# Check for missing values\n",
        "\n",
        "preparetelco2_df = df_telc_2.copy(deep=True)"
      ],
      "execution_count": 69,
      "outputs": []
    },
    {
      "cell_type": "code",
      "metadata": {
        "colab": {
          "base_uri": "https://localhost:8080/"
        },
        "id": "U3fQUlSE-5JF",
        "outputId": "196b8db1-126b-4d03-a76f-ef2244426793"
      },
      "source": [
        "# Checking the null values in\n",
        "df_telc2_len = preparetelco2_df.shape[0]\n",
        "\n",
        "for column in preparetelco2_df.columns:\n",
        "  null_count = preparetelco2_df[column].isnull().sum()\n",
        "  if null_count == 0:\n",
        "    continue\n",
        "  \n",
        "  null_ratio = np.round(null_count/df_len * 100, 2)\n",
        "  print( column,\"has \",null_count,\"null Values \",null_ratio,\"%\")"
      ],
      "execution_count": 71,
      "outputs": [
        {
          "output_type": "stream",
          "text": [
            "SITE_ID has  676 null Values  17.01 %\n"
          ],
          "name": "stdout"
        }
      ]
    },
    {
      "cell_type": "code",
      "metadata": {
        "id": "clvwu7sl_E1a"
      },
      "source": [
        "# Replacing the missing values\n",
        "preparetelco2_df['SITE_ID'].fillna('0',inplace = True)\n",
        "preparetelco2_df"
      ],
      "execution_count": null,
      "outputs": []
    },
    {
      "cell_type": "markdown",
      "metadata": {
        "id": "Q5ojVnVP_iuK"
      },
      "source": [
        "Telecom Dataset 3"
      ]
    },
    {
      "cell_type": "code",
      "metadata": {
        "id": "UxMWWW44_mbY"
      },
      "source": [
        "preparetelco3_df = df_telc_3.copy(deep=True)"
      ],
      "execution_count": 73,
      "outputs": []
    },
    {
      "cell_type": "code",
      "metadata": {
        "colab": {
          "base_uri": "https://localhost:8080/"
        },
        "id": "KxMXzBCo_t6A",
        "outputId": "0abd104a-b668-49a3-a731-3c37d00e91ac"
      },
      "source": [
        "# Checking the null values in\n",
        "df_telc3_len = preparetelco3_df.shape[0]\n",
        "\n",
        "for column in preparetelco3_df.columns:\n",
        "  null_count = preparetelco3_df[column].isnull().sum()\n",
        "  if null_count == 0:\n",
        "    continue\n",
        "  \n",
        "  null_ratio = np.round(null_count/df_len * 100, 2)\n",
        "  print( column,\"has \",null_count,\"null Values \",null_ratio,\"%\")"
      ],
      "execution_count": 74,
      "outputs": [
        {
          "output_type": "stream",
          "text": [
            "SIET_ID has  605 null Values  15.22 %\n"
          ],
          "name": "stdout"
        }
      ]
    },
    {
      "cell_type": "code",
      "metadata": {
        "id": "B74qKxUxAJ5o"
      },
      "source": [
        "# Change the name SIET_ID to SITE_ID\n",
        "df_new_telc3 = preparetelco3_df.rename(columns={'SIET_ID':'SITE_ID'})\n",
        "df_new_telc3"
      ],
      "execution_count": null,
      "outputs": []
    },
    {
      "cell_type": "code",
      "metadata": {
        "id": "TTQqYr2PCTYu"
      },
      "source": [
        ""
      ],
      "execution_count": null,
      "outputs": []
    }
  ]
}